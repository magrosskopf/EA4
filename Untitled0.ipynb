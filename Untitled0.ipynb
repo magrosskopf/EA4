{
  "nbformat": 4,
  "nbformat_minor": 0,
  "metadata": {
    "colab": {
      "name": "Untitled0.ipynb",
      "provenance": [],
      "collapsed_sections": [],
      "authorship_tag": "ABX9TyO26HGFBlUCS1BdnVjH6PxK",
      "include_colab_link": true
    },
    "kernelspec": {
      "name": "python3",
      "display_name": "Python 3"
    },
    "language_info": {
      "name": "python"
    }
  },
  "cells": [
    {
      "cell_type": "markdown",
      "metadata": {
        "id": "view-in-github",
        "colab_type": "text"
      },
      "source": [
        "<a href=\"https://colab.research.google.com/github/magrosskopf/EA4/blob/main/Untitled0.ipynb\" target=\"_parent\"><img src=\"https://colab.research.google.com/assets/colab-badge.svg\" alt=\"Open In Colab\"/></a>"
      ]
    },
    {
      "cell_type": "code",
      "metadata": {
        "colab": {
          "base_uri": "https://localhost:8080/",
          "height": 221
        },
        "id": "EfyZ9MJ3T3po",
        "outputId": "b51efabb-232a-477f-a431-56b9af640f2a"
      },
      "source": [
        "import pandas as pd\n",
        "url = \"https://raw.githubusercontent.com/edlich/eternalrepo/master/DS-WAHLFACH/countries.csv\"\n",
        "df = pd.read_csv(url)\n",
        "print(\"Load the countries.csv directly via URL import into your panda data frame!: \")\n",
        "df\n",
        "\n"
      ],
      "execution_count": null,
      "outputs": [
        {
          "output_type": "stream",
          "text": [
            "Load the countries.csv directly via URL import into your panda data frame!: \n"
          ],
          "name": "stdout"
        },
        {
          "output_type": "execute_result",
          "data": {
            "text/html": [
              "<div>\n",
              "<style scoped>\n",
              "    .dataframe tbody tr th:only-of-type {\n",
              "        vertical-align: middle;\n",
              "    }\n",
              "\n",
              "    .dataframe tbody tr th {\n",
              "        vertical-align: top;\n",
              "    }\n",
              "\n",
              "    .dataframe thead th {\n",
              "        text-align: right;\n",
              "    }\n",
              "</style>\n",
              "<table border=\"1\" class=\"dataframe\">\n",
              "  <thead>\n",
              "    <tr style=\"text-align: right;\">\n",
              "      <th></th>\n",
              "      <th>Name</th>\n",
              "      <th>People</th>\n",
              "      <th>Area</th>\n",
              "      <th>BIP</th>\n",
              "      <th>Currency</th>\n",
              "    </tr>\n",
              "  </thead>\n",
              "  <tbody>\n",
              "    <tr>\n",
              "      <th>0</th>\n",
              "      <td>Germany</td>\n",
              "      <td>82521653</td>\n",
              "      <td>357385</td>\n",
              "      <td>3466</td>\n",
              "      <td>EUR</td>\n",
              "    </tr>\n",
              "    <tr>\n",
              "      <th>1</th>\n",
              "      <td>Japan</td>\n",
              "      <td>126045000</td>\n",
              "      <td>377835</td>\n",
              "      <td>4938</td>\n",
              "      <td>YEN</td>\n",
              "    </tr>\n",
              "    <tr>\n",
              "      <th>2</th>\n",
              "      <td>Canada</td>\n",
              "      <td>36503097</td>\n",
              "      <td>9984670</td>\n",
              "      <td>1529</td>\n",
              "      <td>CAD</td>\n",
              "    </tr>\n",
              "    <tr>\n",
              "      <th>3</th>\n",
              "      <td>Italy</td>\n",
              "      <td>60501718</td>\n",
              "      <td>301338</td>\n",
              "      <td>1850</td>\n",
              "      <td>EUR</td>\n",
              "    </tr>\n",
              "    <tr>\n",
              "      <th>4</th>\n",
              "      <td>Brazilia</td>\n",
              "      <td>208360000</td>\n",
              "      <td>8515770</td>\n",
              "      <td>1798</td>\n",
              "      <td>REAL</td>\n",
              "    </tr>\n",
              "  </tbody>\n",
              "</table>\n",
              "</div>"
            ],
            "text/plain": [
              "       Name     People     Area   BIP Currency\n",
              "0   Germany   82521653   357385  3466      EUR\n",
              "1     Japan  126045000   377835  4938      YEN\n",
              "2    Canada   36503097  9984670  1529      CAD\n",
              "3     Italy   60501718   301338  1850      EUR\n",
              "4  Brazilia  208360000  8515770  1798     REAL"
            ]
          },
          "metadata": {
            "tags": []
          },
          "execution_count": 52
        }
      ]
    },
    {
      "cell_type": "code",
      "metadata": {
        "colab": {
          "base_uri": "https://localhost:8080/"
        },
        "id": "WfCv4TwHV9di",
        "outputId": "96a7b5a2-619a-410c-cc09-0562962f505d"
      },
      "source": [
        "print(\"Size of Matrix\")\n",
        "df.shape"
      ],
      "execution_count": null,
      "outputs": [
        {
          "output_type": "stream",
          "text": [
            "Size of Matrix\n"
          ],
          "name": "stdout"
        },
        {
          "output_type": "execute_result",
          "data": {
            "text/plain": [
              "(5, 5)"
            ]
          },
          "metadata": {
            "tags": []
          },
          "execution_count": 53
        }
      ]
    },
    {
      "cell_type": "code",
      "metadata": {
        "colab": {
          "base_uri": "https://localhost:8080/",
          "height": 314
        },
        "id": "mo1EbNMbWDDP",
        "outputId": "862c634d-0dbb-43fc-cb1d-2a79a52b4648"
      },
      "source": [
        "print(\"Display some basic information as rows, columns and some basic statistical info\")\n",
        "df.describe()"
      ],
      "execution_count": null,
      "outputs": [
        {
          "output_type": "stream",
          "text": [
            "Display some basic information as rows, columns and some basic statistical info\n"
          ],
          "name": "stdout"
        },
        {
          "output_type": "execute_result",
          "data": {
            "text/html": [
              "<div>\n",
              "<style scoped>\n",
              "    .dataframe tbody tr th:only-of-type {\n",
              "        vertical-align: middle;\n",
              "    }\n",
              "\n",
              "    .dataframe tbody tr th {\n",
              "        vertical-align: top;\n",
              "    }\n",
              "\n",
              "    .dataframe thead th {\n",
              "        text-align: right;\n",
              "    }\n",
              "</style>\n",
              "<table border=\"1\" class=\"dataframe\">\n",
              "  <thead>\n",
              "    <tr style=\"text-align: right;\">\n",
              "      <th></th>\n",
              "      <th>People</th>\n",
              "      <th>Area</th>\n",
              "      <th>BIP</th>\n",
              "    </tr>\n",
              "  </thead>\n",
              "  <tbody>\n",
              "    <tr>\n",
              "      <th>count</th>\n",
              "      <td>5.000000e+00</td>\n",
              "      <td>5.000000e+00</td>\n",
              "      <td>5.00000</td>\n",
              "    </tr>\n",
              "    <tr>\n",
              "      <th>mean</th>\n",
              "      <td>1.027863e+08</td>\n",
              "      <td>3.907400e+06</td>\n",
              "      <td>2716.20000</td>\n",
              "    </tr>\n",
              "    <tr>\n",
              "      <th>std</th>\n",
              "      <td>6.759970e+07</td>\n",
              "      <td>4.904957e+06</td>\n",
              "      <td>1457.86083</td>\n",
              "    </tr>\n",
              "    <tr>\n",
              "      <th>min</th>\n",
              "      <td>3.650310e+07</td>\n",
              "      <td>3.013380e+05</td>\n",
              "      <td>1529.00000</td>\n",
              "    </tr>\n",
              "    <tr>\n",
              "      <th>25%</th>\n",
              "      <td>6.050172e+07</td>\n",
              "      <td>3.573850e+05</td>\n",
              "      <td>1798.00000</td>\n",
              "    </tr>\n",
              "    <tr>\n",
              "      <th>50%</th>\n",
              "      <td>8.252165e+07</td>\n",
              "      <td>3.778350e+05</td>\n",
              "      <td>1850.00000</td>\n",
              "    </tr>\n",
              "    <tr>\n",
              "      <th>75%</th>\n",
              "      <td>1.260450e+08</td>\n",
              "      <td>8.515770e+06</td>\n",
              "      <td>3466.00000</td>\n",
              "    </tr>\n",
              "    <tr>\n",
              "      <th>max</th>\n",
              "      <td>2.083600e+08</td>\n",
              "      <td>9.984670e+06</td>\n",
              "      <td>4938.00000</td>\n",
              "    </tr>\n",
              "  </tbody>\n",
              "</table>\n",
              "</div>"
            ],
            "text/plain": [
              "             People          Area         BIP\n",
              "count  5.000000e+00  5.000000e+00     5.00000\n",
              "mean   1.027863e+08  3.907400e+06  2716.20000\n",
              "std    6.759970e+07  4.904957e+06  1457.86083\n",
              "min    3.650310e+07  3.013380e+05  1529.00000\n",
              "25%    6.050172e+07  3.573850e+05  1798.00000\n",
              "50%    8.252165e+07  3.778350e+05  1850.00000\n",
              "75%    1.260450e+08  8.515770e+06  3466.00000\n",
              "max    2.083600e+08  9.984670e+06  4938.00000"
            ]
          },
          "metadata": {
            "tags": []
          },
          "execution_count": 54
        }
      ]
    },
    {
      "cell_type": "code",
      "metadata": {
        "colab": {
          "base_uri": "https://localhost:8080/",
          "height": 190
        },
        "id": "QgXX7BEmWS8g",
        "outputId": "466184e4-7898-476a-9398-526c4b247026"
      },
      "source": [
        "print(\"Show the last 4 rows of the data frame\")\n",
        "df.tail(4)"
      ],
      "execution_count": null,
      "outputs": [
        {
          "output_type": "stream",
          "text": [
            "Show the last 4 rows of the data frame\n"
          ],
          "name": "stdout"
        },
        {
          "output_type": "execute_result",
          "data": {
            "text/html": [
              "<div>\n",
              "<style scoped>\n",
              "    .dataframe tbody tr th:only-of-type {\n",
              "        vertical-align: middle;\n",
              "    }\n",
              "\n",
              "    .dataframe tbody tr th {\n",
              "        vertical-align: top;\n",
              "    }\n",
              "\n",
              "    .dataframe thead th {\n",
              "        text-align: right;\n",
              "    }\n",
              "</style>\n",
              "<table border=\"1\" class=\"dataframe\">\n",
              "  <thead>\n",
              "    <tr style=\"text-align: right;\">\n",
              "      <th></th>\n",
              "      <th>Name</th>\n",
              "      <th>People</th>\n",
              "      <th>Area</th>\n",
              "      <th>BIP</th>\n",
              "      <th>Currency</th>\n",
              "    </tr>\n",
              "  </thead>\n",
              "  <tbody>\n",
              "    <tr>\n",
              "      <th>1</th>\n",
              "      <td>Japan</td>\n",
              "      <td>126045000</td>\n",
              "      <td>377835</td>\n",
              "      <td>4938</td>\n",
              "      <td>YEN</td>\n",
              "    </tr>\n",
              "    <tr>\n",
              "      <th>2</th>\n",
              "      <td>Canada</td>\n",
              "      <td>36503097</td>\n",
              "      <td>9984670</td>\n",
              "      <td>1529</td>\n",
              "      <td>CAD</td>\n",
              "    </tr>\n",
              "    <tr>\n",
              "      <th>3</th>\n",
              "      <td>Italy</td>\n",
              "      <td>60501718</td>\n",
              "      <td>301338</td>\n",
              "      <td>1850</td>\n",
              "      <td>EUR</td>\n",
              "    </tr>\n",
              "    <tr>\n",
              "      <th>4</th>\n",
              "      <td>Brazilia</td>\n",
              "      <td>208360000</td>\n",
              "      <td>8515770</td>\n",
              "      <td>1798</td>\n",
              "      <td>REAL</td>\n",
              "    </tr>\n",
              "  </tbody>\n",
              "</table>\n",
              "</div>"
            ],
            "text/plain": [
              "       Name     People     Area   BIP Currency\n",
              "1     Japan  126045000   377835  4938      YEN\n",
              "2    Canada   36503097  9984670  1529      CAD\n",
              "3     Italy   60501718   301338  1850      EUR\n",
              "4  Brazilia  208360000  8515770  1798     REAL"
            ]
          },
          "metadata": {
            "tags": []
          },
          "execution_count": 55
        }
      ]
    },
    {
      "cell_type": "code",
      "metadata": {
        "colab": {
          "base_uri": "https://localhost:8080/",
          "height": 128
        },
        "id": "TVMowCF0WxWh",
        "outputId": "8d181aa0-7ed0-41d9-d07f-95200bdaedb9"
      },
      "source": [
        "print(\"Show all the row of countries who have the EURO\")\n",
        "df[df[\"Currency\"] == \"EUR\"]"
      ],
      "execution_count": null,
      "outputs": [
        {
          "output_type": "stream",
          "text": [
            "Show all the row of countries who have the EURO\n"
          ],
          "name": "stdout"
        },
        {
          "output_type": "execute_result",
          "data": {
            "text/html": [
              "<div>\n",
              "<style scoped>\n",
              "    .dataframe tbody tr th:only-of-type {\n",
              "        vertical-align: middle;\n",
              "    }\n",
              "\n",
              "    .dataframe tbody tr th {\n",
              "        vertical-align: top;\n",
              "    }\n",
              "\n",
              "    .dataframe thead th {\n",
              "        text-align: right;\n",
              "    }\n",
              "</style>\n",
              "<table border=\"1\" class=\"dataframe\">\n",
              "  <thead>\n",
              "    <tr style=\"text-align: right;\">\n",
              "      <th></th>\n",
              "      <th>Name</th>\n",
              "      <th>People</th>\n",
              "      <th>Area</th>\n",
              "      <th>BIP</th>\n",
              "      <th>Currency</th>\n",
              "    </tr>\n",
              "  </thead>\n",
              "  <tbody>\n",
              "    <tr>\n",
              "      <th>0</th>\n",
              "      <td>Germany</td>\n",
              "      <td>82521653</td>\n",
              "      <td>357385</td>\n",
              "      <td>3466</td>\n",
              "      <td>EUR</td>\n",
              "    </tr>\n",
              "    <tr>\n",
              "      <th>3</th>\n",
              "      <td>Italy</td>\n",
              "      <td>60501718</td>\n",
              "      <td>301338</td>\n",
              "      <td>1850</td>\n",
              "      <td>EUR</td>\n",
              "    </tr>\n",
              "  </tbody>\n",
              "</table>\n",
              "</div>"
            ],
            "text/plain": [
              "      Name    People    Area   BIP Currency\n",
              "0  Germany  82521653  357385  3466      EUR\n",
              "3    Italy  60501718  301338  1850      EUR"
            ]
          },
          "metadata": {
            "tags": []
          },
          "execution_count": 56
        }
      ]
    },
    {
      "cell_type": "code",
      "metadata": {
        "colab": {
          "base_uri": "https://localhost:8080/",
          "height": 221
        },
        "id": "uOm6yG8xX1KV",
        "outputId": "40ddab6e-0d45-4145-d019-a9ef459de181"
      },
      "source": [
        "print(\"Show only name and Currency in a new data frame\")\n",
        "df.loc[:, [\"Name\", \"Currency\"]]"
      ],
      "execution_count": null,
      "outputs": [
        {
          "output_type": "stream",
          "text": [
            "Show only name and Currency in a new data frame\n"
          ],
          "name": "stdout"
        },
        {
          "output_type": "execute_result",
          "data": {
            "text/html": [
              "<div>\n",
              "<style scoped>\n",
              "    .dataframe tbody tr th:only-of-type {\n",
              "        vertical-align: middle;\n",
              "    }\n",
              "\n",
              "    .dataframe tbody tr th {\n",
              "        vertical-align: top;\n",
              "    }\n",
              "\n",
              "    .dataframe thead th {\n",
              "        text-align: right;\n",
              "    }\n",
              "</style>\n",
              "<table border=\"1\" class=\"dataframe\">\n",
              "  <thead>\n",
              "    <tr style=\"text-align: right;\">\n",
              "      <th></th>\n",
              "      <th>Name</th>\n",
              "      <th>Currency</th>\n",
              "    </tr>\n",
              "  </thead>\n",
              "  <tbody>\n",
              "    <tr>\n",
              "      <th>0</th>\n",
              "      <td>Germany</td>\n",
              "      <td>EUR</td>\n",
              "    </tr>\n",
              "    <tr>\n",
              "      <th>1</th>\n",
              "      <td>Japan</td>\n",
              "      <td>YEN</td>\n",
              "    </tr>\n",
              "    <tr>\n",
              "      <th>2</th>\n",
              "      <td>Canada</td>\n",
              "      <td>CAD</td>\n",
              "    </tr>\n",
              "    <tr>\n",
              "      <th>3</th>\n",
              "      <td>Italy</td>\n",
              "      <td>EUR</td>\n",
              "    </tr>\n",
              "    <tr>\n",
              "      <th>4</th>\n",
              "      <td>Brazilia</td>\n",
              "      <td>REAL</td>\n",
              "    </tr>\n",
              "  </tbody>\n",
              "</table>\n",
              "</div>"
            ],
            "text/plain": [
              "       Name Currency\n",
              "0   Germany      EUR\n",
              "1     Japan      YEN\n",
              "2    Canada      CAD\n",
              "3     Italy      EUR\n",
              "4  Brazilia     REAL"
            ]
          },
          "metadata": {
            "tags": []
          },
          "execution_count": 57
        }
      ]
    },
    {
      "cell_type": "code",
      "metadata": {
        "colab": {
          "base_uri": "https://localhost:8080/",
          "height": 128
        },
        "id": "xK9nNy0sYHu5",
        "outputId": "d8d81a77-d135-4f24-bbe2-e498411f7908"
      },
      "source": [
        "print(\"Show only the rows/countries that have more than 2000 BIP (it is in Milliarden USD Bruttoinlandsprodukt)\")\n",
        "df[df[\"BIP\"] > 2000]"
      ],
      "execution_count": null,
      "outputs": [
        {
          "output_type": "stream",
          "text": [
            "Show only the rows/countries that have more than 2000 BIP (it is in Milliarden USD Bruttoinlandsprodukt)\n"
          ],
          "name": "stdout"
        },
        {
          "output_type": "execute_result",
          "data": {
            "text/html": [
              "<div>\n",
              "<style scoped>\n",
              "    .dataframe tbody tr th:only-of-type {\n",
              "        vertical-align: middle;\n",
              "    }\n",
              "\n",
              "    .dataframe tbody tr th {\n",
              "        vertical-align: top;\n",
              "    }\n",
              "\n",
              "    .dataframe thead th {\n",
              "        text-align: right;\n",
              "    }\n",
              "</style>\n",
              "<table border=\"1\" class=\"dataframe\">\n",
              "  <thead>\n",
              "    <tr style=\"text-align: right;\">\n",
              "      <th></th>\n",
              "      <th>Name</th>\n",
              "      <th>People</th>\n",
              "      <th>Area</th>\n",
              "      <th>BIP</th>\n",
              "      <th>Currency</th>\n",
              "    </tr>\n",
              "  </thead>\n",
              "  <tbody>\n",
              "    <tr>\n",
              "      <th>0</th>\n",
              "      <td>Germany</td>\n",
              "      <td>82521653</td>\n",
              "      <td>357385</td>\n",
              "      <td>3466</td>\n",
              "      <td>EUR</td>\n",
              "    </tr>\n",
              "    <tr>\n",
              "      <th>1</th>\n",
              "      <td>Japan</td>\n",
              "      <td>126045000</td>\n",
              "      <td>377835</td>\n",
              "      <td>4938</td>\n",
              "      <td>YEN</td>\n",
              "    </tr>\n",
              "  </tbody>\n",
              "</table>\n",
              "</div>"
            ],
            "text/plain": [
              "      Name     People    Area   BIP Currency\n",
              "0  Germany   82521653  357385  3466      EUR\n",
              "1    Japan  126045000  377835  4938      YEN"
            ]
          },
          "metadata": {
            "tags": []
          },
          "execution_count": 58
        }
      ]
    },
    {
      "cell_type": "code",
      "metadata": {
        "colab": {
          "base_uri": "https://localhost:8080/",
          "height": 159
        },
        "id": "ByLY0tXhY6kM",
        "outputId": "50069ab6-0cdd-441e-e631-c19aa9845513"
      },
      "source": [
        "print(\"Select all countries where with inhabitants between 50 and 150 Mio\")\n",
        "df[(df.People > 50000000) & (df.People < 150000000)]"
      ],
      "execution_count": null,
      "outputs": [
        {
          "output_type": "stream",
          "text": [
            "Select all countries where with inhabitants between 50 and 150 Mio\n"
          ],
          "name": "stdout"
        },
        {
          "output_type": "execute_result",
          "data": {
            "text/html": [
              "<div>\n",
              "<style scoped>\n",
              "    .dataframe tbody tr th:only-of-type {\n",
              "        vertical-align: middle;\n",
              "    }\n",
              "\n",
              "    .dataframe tbody tr th {\n",
              "        vertical-align: top;\n",
              "    }\n",
              "\n",
              "    .dataframe thead th {\n",
              "        text-align: right;\n",
              "    }\n",
              "</style>\n",
              "<table border=\"1\" class=\"dataframe\">\n",
              "  <thead>\n",
              "    <tr style=\"text-align: right;\">\n",
              "      <th></th>\n",
              "      <th>Name</th>\n",
              "      <th>People</th>\n",
              "      <th>Area</th>\n",
              "      <th>BIP</th>\n",
              "      <th>Currency</th>\n",
              "    </tr>\n",
              "  </thead>\n",
              "  <tbody>\n",
              "    <tr>\n",
              "      <th>0</th>\n",
              "      <td>Germany</td>\n",
              "      <td>82521653</td>\n",
              "      <td>357385</td>\n",
              "      <td>3466</td>\n",
              "      <td>EUR</td>\n",
              "    </tr>\n",
              "    <tr>\n",
              "      <th>1</th>\n",
              "      <td>Japan</td>\n",
              "      <td>126045000</td>\n",
              "      <td>377835</td>\n",
              "      <td>4938</td>\n",
              "      <td>YEN</td>\n",
              "    </tr>\n",
              "    <tr>\n",
              "      <th>3</th>\n",
              "      <td>Italy</td>\n",
              "      <td>60501718</td>\n",
              "      <td>301338</td>\n",
              "      <td>1850</td>\n",
              "      <td>EUR</td>\n",
              "    </tr>\n",
              "  </tbody>\n",
              "</table>\n",
              "</div>"
            ],
            "text/plain": [
              "      Name     People    Area   BIP Currency\n",
              "0  Germany   82521653  357385  3466      EUR\n",
              "1    Japan  126045000  377835  4938      YEN\n",
              "3    Italy   60501718  301338  1850      EUR"
            ]
          },
          "metadata": {
            "tags": []
          },
          "execution_count": 59
        }
      ]
    },
    {
      "cell_type": "code",
      "metadata": {
        "colab": {
          "base_uri": "https://localhost:8080/",
          "height": 221
        },
        "id": "wQk8Ho6aaajg",
        "outputId": "f6404259-1cb5-4810-ece1-a2ecf2a666bb"
      },
      "source": [
        "print(\"Change BIP to Bip\")\n",
        "df.rename(columns={\"BIP\":\"Bip\"})"
      ],
      "execution_count": null,
      "outputs": [
        {
          "output_type": "stream",
          "text": [
            "Change BIP to Bip\n"
          ],
          "name": "stdout"
        },
        {
          "output_type": "execute_result",
          "data": {
            "text/html": [
              "<div>\n",
              "<style scoped>\n",
              "    .dataframe tbody tr th:only-of-type {\n",
              "        vertical-align: middle;\n",
              "    }\n",
              "\n",
              "    .dataframe tbody tr th {\n",
              "        vertical-align: top;\n",
              "    }\n",
              "\n",
              "    .dataframe thead th {\n",
              "        text-align: right;\n",
              "    }\n",
              "</style>\n",
              "<table border=\"1\" class=\"dataframe\">\n",
              "  <thead>\n",
              "    <tr style=\"text-align: right;\">\n",
              "      <th></th>\n",
              "      <th>Name</th>\n",
              "      <th>People</th>\n",
              "      <th>Area</th>\n",
              "      <th>Bip</th>\n",
              "      <th>Currency</th>\n",
              "    </tr>\n",
              "  </thead>\n",
              "  <tbody>\n",
              "    <tr>\n",
              "      <th>0</th>\n",
              "      <td>Germany</td>\n",
              "      <td>82521653</td>\n",
              "      <td>357385</td>\n",
              "      <td>3466</td>\n",
              "      <td>EUR</td>\n",
              "    </tr>\n",
              "    <tr>\n",
              "      <th>1</th>\n",
              "      <td>Japan</td>\n",
              "      <td>126045000</td>\n",
              "      <td>377835</td>\n",
              "      <td>4938</td>\n",
              "      <td>YEN</td>\n",
              "    </tr>\n",
              "    <tr>\n",
              "      <th>2</th>\n",
              "      <td>Canada</td>\n",
              "      <td>36503097</td>\n",
              "      <td>9984670</td>\n",
              "      <td>1529</td>\n",
              "      <td>CAD</td>\n",
              "    </tr>\n",
              "    <tr>\n",
              "      <th>3</th>\n",
              "      <td>Italy</td>\n",
              "      <td>60501718</td>\n",
              "      <td>301338</td>\n",
              "      <td>1850</td>\n",
              "      <td>EUR</td>\n",
              "    </tr>\n",
              "    <tr>\n",
              "      <th>4</th>\n",
              "      <td>Brazilia</td>\n",
              "      <td>208360000</td>\n",
              "      <td>8515770</td>\n",
              "      <td>1798</td>\n",
              "      <td>REAL</td>\n",
              "    </tr>\n",
              "  </tbody>\n",
              "</table>\n",
              "</div>"
            ],
            "text/plain": [
              "       Name     People     Area   Bip Currency\n",
              "0   Germany   82521653   357385  3466      EUR\n",
              "1     Japan  126045000   377835  4938      YEN\n",
              "2    Canada   36503097  9984670  1529      CAD\n",
              "3     Italy   60501718   301338  1850      EUR\n",
              "4  Brazilia  208360000  8515770  1798     REAL"
            ]
          },
          "metadata": {
            "tags": []
          },
          "execution_count": 22
        }
      ]
    },
    {
      "cell_type": "code",
      "metadata": {
        "colab": {
          "base_uri": "https://localhost:8080/"
        },
        "id": "lgQ14ZtTar3Q",
        "outputId": "32637324-76b9-4d74-9312-1f7edb26db26"
      },
      "source": [
        "print(\"Calculate the Bip sum\")\n",
        "df.BIP.sum()"
      ],
      "execution_count": null,
      "outputs": [
        {
          "output_type": "stream",
          "text": [
            "Calculate the Bip sum\n"
          ],
          "name": "stdout"
        },
        {
          "output_type": "execute_result",
          "data": {
            "text/plain": [
              "13581"
            ]
          },
          "metadata": {
            "tags": []
          },
          "execution_count": 24
        }
      ]
    },
    {
      "cell_type": "code",
      "metadata": {
        "colab": {
          "base_uri": "https://localhost:8080/"
        },
        "id": "2S7hc4ExbKrq",
        "outputId": "2aee9f71-9b99-41ad-b987-a68e7514ca2f"
      },
      "source": [
        "print(\"Calculate the average people of all countries\")\n",
        "df.People.mean()"
      ],
      "execution_count": null,
      "outputs": [
        {
          "output_type": "stream",
          "text": [
            "Calculate the average people of all countries\n"
          ],
          "name": "stdout"
        },
        {
          "output_type": "execute_result",
          "data": {
            "text/plain": [
              "102786293.6"
            ]
          },
          "metadata": {
            "tags": []
          },
          "execution_count": 49
        }
      ]
    },
    {
      "cell_type": "code",
      "metadata": {
        "colab": {
          "base_uri": "https://localhost:8080/",
          "height": 221
        },
        "id": "aFbXv_hIbUL0",
        "outputId": "388cafb5-554a-4879-be17-0f3b530775d5"
      },
      "source": [
        "print(\"Sort by name alphabetically\")\n",
        "df.sort_values(by=\"Name\")"
      ],
      "execution_count": null,
      "outputs": [
        {
          "output_type": "stream",
          "text": [
            "Sort by name alphabetically\n"
          ],
          "name": "stdout"
        },
        {
          "output_type": "execute_result",
          "data": {
            "text/html": [
              "<div>\n",
              "<style scoped>\n",
              "    .dataframe tbody tr th:only-of-type {\n",
              "        vertical-align: middle;\n",
              "    }\n",
              "\n",
              "    .dataframe tbody tr th {\n",
              "        vertical-align: top;\n",
              "    }\n",
              "\n",
              "    .dataframe thead th {\n",
              "        text-align: right;\n",
              "    }\n",
              "</style>\n",
              "<table border=\"1\" class=\"dataframe\">\n",
              "  <thead>\n",
              "    <tr style=\"text-align: right;\">\n",
              "      <th></th>\n",
              "      <th>Name</th>\n",
              "      <th>People</th>\n",
              "      <th>Area</th>\n",
              "      <th>BIP</th>\n",
              "      <th>Currency</th>\n",
              "    </tr>\n",
              "  </thead>\n",
              "  <tbody>\n",
              "    <tr>\n",
              "      <th>4</th>\n",
              "      <td>Brazilia</td>\n",
              "      <td>208360000</td>\n",
              "      <td>8515770</td>\n",
              "      <td>1798</td>\n",
              "      <td>REAL</td>\n",
              "    </tr>\n",
              "    <tr>\n",
              "      <th>2</th>\n",
              "      <td>Canada</td>\n",
              "      <td>36503097</td>\n",
              "      <td>9984670</td>\n",
              "      <td>1529</td>\n",
              "      <td>CAD</td>\n",
              "    </tr>\n",
              "    <tr>\n",
              "      <th>0</th>\n",
              "      <td>Germany</td>\n",
              "      <td>82521653</td>\n",
              "      <td>357385</td>\n",
              "      <td>3466</td>\n",
              "      <td>EUR</td>\n",
              "    </tr>\n",
              "    <tr>\n",
              "      <th>3</th>\n",
              "      <td>Italy</td>\n",
              "      <td>60501718</td>\n",
              "      <td>301338</td>\n",
              "      <td>1850</td>\n",
              "      <td>EUR</td>\n",
              "    </tr>\n",
              "    <tr>\n",
              "      <th>1</th>\n",
              "      <td>Japan</td>\n",
              "      <td>126045000</td>\n",
              "      <td>377835</td>\n",
              "      <td>4938</td>\n",
              "      <td>YEN</td>\n",
              "    </tr>\n",
              "  </tbody>\n",
              "</table>\n",
              "</div>"
            ],
            "text/plain": [
              "       Name     People     Area   BIP Currency\n",
              "4  Brazilia  208360000  8515770  1798     REAL\n",
              "2    Canada   36503097  9984670  1529      CAD\n",
              "0   Germany   82521653   357385  3466      EUR\n",
              "3     Italy   60501718   301338  1850      EUR\n",
              "1     Japan  126045000   377835  4938      YEN"
            ]
          },
          "metadata": {
            "tags": []
          },
          "execution_count": 60
        }
      ]
    },
    {
      "cell_type": "code",
      "metadata": {
        "colab": {
          "base_uri": "https://localhost:8080/",
          "height": 221
        },
        "id": "UnDtLV0xbUNP",
        "outputId": "87758dc4-21ad-441c-a605-92f43425a745"
      },
      "source": [
        "print(\"Create a new data frame from the original where the area is changed as follows: all countries with > 1000000 get BIG and <= 1000000 get SMALL in the cell replaced!\")\n",
        "df2 = df.copy()\n",
        "df2['Area'] = df['Area'].apply(lambda x: 'BIG' if x > 1000000 else 'SMALL')\n",
        "df2\n"
      ],
      "execution_count": null,
      "outputs": [
        {
          "output_type": "stream",
          "text": [
            "Create a new data frame from the original where the area is changed as follows: all countries with > 1000000 get BIG and <= 1000000 get SMALL in the cell replaced!\n"
          ],
          "name": "stdout"
        },
        {
          "output_type": "execute_result",
          "data": {
            "text/html": [
              "<div>\n",
              "<style scoped>\n",
              "    .dataframe tbody tr th:only-of-type {\n",
              "        vertical-align: middle;\n",
              "    }\n",
              "\n",
              "    .dataframe tbody tr th {\n",
              "        vertical-align: top;\n",
              "    }\n",
              "\n",
              "    .dataframe thead th {\n",
              "        text-align: right;\n",
              "    }\n",
              "</style>\n",
              "<table border=\"1\" class=\"dataframe\">\n",
              "  <thead>\n",
              "    <tr style=\"text-align: right;\">\n",
              "      <th></th>\n",
              "      <th>Name</th>\n",
              "      <th>People</th>\n",
              "      <th>Area</th>\n",
              "      <th>BIP</th>\n",
              "      <th>Currency</th>\n",
              "    </tr>\n",
              "  </thead>\n",
              "  <tbody>\n",
              "    <tr>\n",
              "      <th>0</th>\n",
              "      <td>Germany</td>\n",
              "      <td>82521653</td>\n",
              "      <td>SMALL</td>\n",
              "      <td>3466</td>\n",
              "      <td>EUR</td>\n",
              "    </tr>\n",
              "    <tr>\n",
              "      <th>1</th>\n",
              "      <td>Japan</td>\n",
              "      <td>126045000</td>\n",
              "      <td>SMALL</td>\n",
              "      <td>4938</td>\n",
              "      <td>YEN</td>\n",
              "    </tr>\n",
              "    <tr>\n",
              "      <th>2</th>\n",
              "      <td>Canada</td>\n",
              "      <td>36503097</td>\n",
              "      <td>BIG</td>\n",
              "      <td>1529</td>\n",
              "      <td>CAD</td>\n",
              "    </tr>\n",
              "    <tr>\n",
              "      <th>3</th>\n",
              "      <td>Italy</td>\n",
              "      <td>60501718</td>\n",
              "      <td>SMALL</td>\n",
              "      <td>1850</td>\n",
              "      <td>EUR</td>\n",
              "    </tr>\n",
              "    <tr>\n",
              "      <th>4</th>\n",
              "      <td>Brazilia</td>\n",
              "      <td>208360000</td>\n",
              "      <td>BIG</td>\n",
              "      <td>1798</td>\n",
              "      <td>REAL</td>\n",
              "    </tr>\n",
              "  </tbody>\n",
              "</table>\n",
              "</div>"
            ],
            "text/plain": [
              "       Name     People   Area   BIP Currency\n",
              "0   Germany   82521653  SMALL  3466      EUR\n",
              "1     Japan  126045000  SMALL  4938      YEN\n",
              "2    Canada   36503097    BIG  1529      CAD\n",
              "3     Italy   60501718  SMALL  1850      EUR\n",
              "4  Brazilia  208360000    BIG  1798     REAL"
            ]
          },
          "metadata": {
            "tags": []
          },
          "execution_count": 62
        }
      ]
    }
  ]
}