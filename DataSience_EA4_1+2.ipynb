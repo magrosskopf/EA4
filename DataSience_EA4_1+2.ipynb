{
  "nbformat": 4,
  "nbformat_minor": 0,
  "metadata": {
    "colab": {
      "name": "DataSience EA4 1+2.ipynb",
      "provenance": [],
      "collapsed_sections": [],
      "authorship_tag": "ABX9TyNEgSYPF8b19u8A68rlmn1E",
      "include_colab_link": true
    },
    "kernelspec": {
      "name": "python3",
      "display_name": "Python 3"
    },
    "language_info": {
      "name": "python"
    }
  },
  "cells": [
    {
      "cell_type": "markdown",
      "metadata": {
        "id": "view-in-github",
        "colab_type": "text"
      },
      "source": [
        "<a href=\"https://colab.research.google.com/github/magrosskopf/EA4/blob/main/DataSience_EA4_1%2B2.ipynb\" target=\"_parent\"><img src=\"https://colab.research.google.com/assets/colab-badge.svg\" alt=\"Open In Colab\"/></a>"
      ]
    },
    {
      "cell_type": "code",
      "metadata": {
        "colab": {
          "base_uri": "https://localhost:8080/"
        },
        "id": "txGWa3I9Qf20",
        "outputId": "7cfb0d0d-16e1-40f4-f469-1488b273e44f"
      },
      "source": [
        "import numpy as np\n",
        "print(\"numpy version: \")\n",
        "print(np.__version__)\n",
        "\n",
        "array = np.arange(12)\n",
        "print(\"array with 12 Elements: \")\n",
        "print(array)\n",
        "\n",
        "array = np.where(array % 2 == 0, -1, array)\n",
        "print(\"array where even numbers (and zero) are replaced by -1: \")\n",
        "print(array)\n",
        "\n",
        "\n",
        "array = array.reshape(4, -1)\n",
        "\n",
        "print(\"array reshaped to 4 rows: \")\n",
        "print(array)\n",
        "\n",
        "bool_array = np.full((5, 3), True, dtype=bool)\n",
        "print(\"array of 5x3 true: \")\n",
        "print(bool_array)"
      ],
      "execution_count": null,
      "outputs": [
        {
          "output_type": "stream",
          "text": [
            "numpy version: \n",
            "1.19.5\n",
            "array with 12 Elements: \n",
            "[ 0  1  2  3  4  5  6  7  8  9 10 11]\n",
            "array where even numbers (and zero) are replaced by -1: \n",
            "[-1  1 -1  3 -1  5 -1  7 -1  9 -1 11]\n",
            "array reshaped to 4 rows: \n",
            "[[-1  1 -1]\n",
            " [ 3 -1  5]\n",
            " [-1  7 -1]\n",
            " [ 9 -1 11]]\n",
            "array of 5x3 true: \n",
            "[[ True  True  True]\n",
            " [ True  True  True]\n",
            " [ True  True  True]\n",
            " [ True  True  True]\n",
            " [ True  True  True]]\n"
          ],
          "name": "stdout"
        }
      ]
    }
  ]
}